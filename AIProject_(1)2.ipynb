{
 "cells": [
  {
   "cell_type": "code",
   "execution_count": 1,
   "metadata": {
    "id": "j9utMyEzD4v_"
   },
   "outputs": [],
   "source": [
    "import pandas as pd\n",
    "import random\n",
    "import matplotlib.pyplot as plt\n",
    "import numpy as np"
   ]
  },
  {
   "cell_type": "code",
   "execution_count": 2,
   "metadata": {
    "id": "yCOmqI8XD8Fr"
   },
   "outputs": [],
   "source": [
    "df = pd.read_excel('dataset1.xlsx',header=0) # Data importing"
   ]
  },
  {
   "cell_type": "code",
   "execution_count": 3,
   "metadata": {
    "colab": {
     "base_uri": "https://localhost:8080/",
     "height": 419
    },
    "id": "ftur6GiAdF4s",
    "outputId": "ed888b10-5921-45f7-fa1e-5d2cefa7df8c"
   },
   "outputs": [
    {
     "data": {
      "text/html": [
       "<div>\n",
       "<style scoped>\n",
       "    .dataframe tbody tr th:only-of-type {\n",
       "        vertical-align: middle;\n",
       "    }\n",
       "\n",
       "    .dataframe tbody tr th {\n",
       "        vertical-align: top;\n",
       "    }\n",
       "\n",
       "    .dataframe thead th {\n",
       "        text-align: right;\n",
       "    }\n",
       "</style>\n",
       "<table border=\"1\" class=\"dataframe\">\n",
       "  <thead>\n",
       "    <tr style=\"text-align: right;\">\n",
       "      <th></th>\n",
       "      <th>CATEGORY</th>\n",
       "      <th>ITEM</th>\n",
       "      <th>CALORIES</th>\n",
       "      <th>TYPE</th>\n",
       "      <th>PRICE</th>\n",
       "    </tr>\n",
       "  </thead>\n",
       "  <tbody>\n",
       "    <tr>\n",
       "      <td>0</td>\n",
       "      <td>STARTER</td>\n",
       "      <td>Dynamite shrimp</td>\n",
       "      <td>770.0</td>\n",
       "      <td>Vegetarian</td>\n",
       "      <td>74</td>\n",
       "    </tr>\n",
       "    <tr>\n",
       "      <td>1</td>\n",
       "      <td>STARTER</td>\n",
       "      <td>Halloumi fries</td>\n",
       "      <td>530.0</td>\n",
       "      <td>Vegetarian</td>\n",
       "      <td>48</td>\n",
       "    </tr>\n",
       "    <tr>\n",
       "      <td>2</td>\n",
       "      <td>STARTER</td>\n",
       "      <td>Baked eggplant</td>\n",
       "      <td>270.0</td>\n",
       "      <td>Vegan</td>\n",
       "      <td>36</td>\n",
       "    </tr>\n",
       "    <tr>\n",
       "      <td>3</td>\n",
       "      <td>STARTER</td>\n",
       "      <td>Fish cake</td>\n",
       "      <td>480.0</td>\n",
       "      <td>Vegetarian</td>\n",
       "      <td>60</td>\n",
       "    </tr>\n",
       "    <tr>\n",
       "      <td>4</td>\n",
       "      <td>STARTER</td>\n",
       "      <td>Lentil soup</td>\n",
       "      <td>290.0</td>\n",
       "      <td>Vegan</td>\n",
       "      <td>26</td>\n",
       "    </tr>\n",
       "    <tr>\n",
       "      <td>...</td>\n",
       "      <td>...</td>\n",
       "      <td>...</td>\n",
       "      <td>...</td>\n",
       "      <td>...</td>\n",
       "      <td>...</td>\n",
       "    </tr>\n",
       "    <tr>\n",
       "      <td>63</td>\n",
       "      <td>COLD DRINK</td>\n",
       "      <td>Ice Latte</td>\n",
       "      <td>160.0</td>\n",
       "      <td>Vegetarian</td>\n",
       "      <td>18</td>\n",
       "    </tr>\n",
       "    <tr>\n",
       "      <td>64</td>\n",
       "      <td>COLD DRINK</td>\n",
       "      <td>Large Water</td>\n",
       "      <td>0.0</td>\n",
       "      <td>Vegan</td>\n",
       "      <td>10</td>\n",
       "    </tr>\n",
       "    <tr>\n",
       "      <td>65</td>\n",
       "      <td>COLD DRINK</td>\n",
       "      <td>Small Water</td>\n",
       "      <td>0.0</td>\n",
       "      <td>Vegan</td>\n",
       "      <td>10</td>\n",
       "    </tr>\n",
       "    <tr>\n",
       "      <td>66</td>\n",
       "      <td>COLD DRINK</td>\n",
       "      <td>Raspberry Mojito</td>\n",
       "      <td>129.4</td>\n",
       "      <td>Vegan</td>\n",
       "      <td>28</td>\n",
       "    </tr>\n",
       "    <tr>\n",
       "      <td>67</td>\n",
       "      <td>COLD DRINK</td>\n",
       "      <td>Blueberry Mojito</td>\n",
       "      <td>136.0</td>\n",
       "      <td>Vegan</td>\n",
       "      <td>30</td>\n",
       "    </tr>\n",
       "  </tbody>\n",
       "</table>\n",
       "<p>68 rows × 5 columns</p>\n",
       "</div>"
      ],
      "text/plain": [
       "      CATEGORY              ITEM  CALORIES        TYPE  PRICE\n",
       "0      STARTER   Dynamite shrimp     770.0  Vegetarian     74\n",
       "1      STARTER    Halloumi fries     530.0  Vegetarian     48\n",
       "2      STARTER    Baked eggplant     270.0       Vegan     36\n",
       "3      STARTER         Fish cake     480.0  Vegetarian     60\n",
       "4      STARTER       Lentil soup     290.0       Vegan     26\n",
       "..         ...               ...       ...         ...    ...\n",
       "63  COLD DRINK         Ice Latte     160.0  Vegetarian     18\n",
       "64  COLD DRINK       Large Water       0.0       Vegan     10\n",
       "65  COLD DRINK       Small Water       0.0       Vegan     10\n",
       "66  COLD DRINK  Raspberry Mojito     129.4       Vegan     28\n",
       "67  COLD DRINK  Blueberry Mojito     136.0       Vegan     30\n",
       "\n",
       "[68 rows x 5 columns]"
      ]
     },
     "execution_count": 3,
     "metadata": {},
     "output_type": "execute_result"
    }
   ],
   "source": [
    "df"
   ]
  },
  {
   "cell_type": "markdown",
   "metadata": {},
   "source": [
    "# Read user input"
   ]
  },
  {
   "cell_type": "code",
   "execution_count": 4,
   "metadata": {
    "colab": {
     "base_uri": "https://localhost:8080/"
    },
    "id": "iFXRgMFHdEgb",
    "outputId": "fdeda6e1-8a5b-4a73-93b7-fc332ce71406"
   },
   "outputs": [
    {
     "name": "stdout",
     "output_type": "stream",
     "text": [
      "Enter meal type: (hint: Regular, Vegetarian, Vegan) Vegetarian\n"
     ]
    }
   ],
   "source": [
    "mealTypes = [\"regular\" , \"vegetarian\" , \"vegan\" ]\n",
    "while True:\n",
    "    userType = input('Enter meal type: (hint: Regular, Vegetarian, Vegan) ')\n",
    "    if userType.lower() in mealTypes:\n",
    "        break\n",
    "    print(\"\\nEnter one of the following: Regular, Vegetarian, Vegan\")"
   ]
  },
  {
   "cell_type": "code",
   "execution_count": 5,
   "metadata": {
    "colab": {
     "base_uri": "https://localhost:8080/"
    },
    "id": "E2bPLBFmd1wM",
    "outputId": "78b73ed9-bbd4-4739-b729-645e1f27c578"
   },
   "outputs": [
    {
     "name": "stdout",
     "output_type": "stream",
     "text": [
      "Enter calories you want in the meal: (hint: enter a number) 1100\n"
     ]
    }
   ],
   "source": [
    "while True:\n",
    "     try:\n",
    "        userCalories = float(input('Enter calories you want in the meal: (hint: enter a number) '))\n",
    "        if(userCalories<0):\n",
    "             print(\"Enter positive numbers only\")\n",
    "             continue\n",
    "        break\n",
    "     except ValueError as e:\n",
    "            print(\"Numbers only, Enter again\") "
   ]
  },
  {
   "cell_type": "code",
   "execution_count": 6,
   "metadata": {
    "colab": {
     "base_uri": "https://localhost:8080/"
    },
    "id": "Pf_zVFvFdP4Z",
    "outputId": "4f202872-b017-4641-c111-56c49fad7cd6"
   },
   "outputs": [
    {
     "name": "stdout",
     "output_type": "stream",
     "text": [
      "Enter your budget type: (hint: enter a number) 250\n"
     ]
    }
   ],
   "source": [
    "while True:\n",
    "     try:\n",
    "        userBudget = float(input('Enter your budget type: (hint: enter a number) '))\n",
    "        if(userBudget<0):\n",
    "             print(\"Enter positive numbers only\")\n",
    "             continue\n",
    "        break\n",
    "     except ValueError as e:\n",
    "            print(\"Numbers only, Enter again\") "
   ]
  },
  {
   "cell_type": "markdown",
   "metadata": {
    "id": "ChpbEc2Ff_r9"
   },
   "source": [
    "# Initial population method"
   ]
  },
  {
   "cell_type": "code",
   "execution_count": 7,
   "metadata": {
    "id": "jRlcRbMjt9nm"
   },
   "outputs": [],
   "source": [
    "def insital_pop(pop_size):#هنا ليش قيمه البللوشن تتغير كل مرا لما تدخل اللست ؟؟\n",
    "    populatio = df.values.tolist()# خلاها ع اساس ليست داخل قيمه اللبلوشنز \n",
    "    pop_list = []# وهنا خلاها اساس اري \n",
    "    for i in range(0, pop_size):# وهنا ليش قام حط ان رينج بتوين زيرو والبلبوشن سايز \n",
    "        pop_list.append([populatio[random.randint(0,11)] ,populatio[random.randint(12,29)], populatio[random.randint(30,47)] ,\n",
    "                         populatio[random.randint(48,56)], populatio[random.randint(57,67)] ])\n",
    "    return pop_list \n",
    "\n",
    "#اول شي  هنا راح نستقبل ععد اللبلوشنز في تحديد الرينج بعد كذا راح نخزن الداتا حقتنا داخل ليست جوا متغير ببلوشن \n",
    "#   عرفنا اري اسمها بوبلوشن ليست  راح تححتوي علئ عدد الببلوشنز ككل ، وراح تخزن ايتش  كاتقوري في اراي \n",
    "#"
   ]
  },
  {
   "cell_type": "markdown",
   "metadata": {
    "id": "jwyRZbX6xCtU"
   },
   "source": [
    "# Fitness Function"
   ]
  },
  {
   "cell_type": "code",
   "execution_count": 8,
   "metadata": {
    "id": "3azAIep_xQrp"
   },
   "outputs": [],
   "source": [
    "def fitness_function(meal):\n",
    "    typeWeight = 0.4\n",
    "    budgetWeight = 0.4\n",
    "    calorieWeight = 0.2\n",
    "    totalCost = 0.0\n",
    "    totalCalories = 0.0\n",
    "    totalWeight = 0.0\n",
    "    \n",
    "    \n",
    "    counter = 0\n",
    "    \n",
    "    for item in meal:# في الوجبه الوحده لها ٥ اندكس \n",
    "        \n",
    "        \n",
    "        if(userType.lower() == \"regular\"):\n",
    "            totalWeight = totalWeight + typeWeight\n",
    "            totalCost =  totalCost + item[4]# هو الاندكس حق البرايس فجمعه جوا اللتوتال كوست \n",
    "            totalCalories = totalCalories + item[2]# خو الاندكس حق الكالوري وعرفنا قيمه الكالوري \n",
    "            counter = counter+1\n",
    "            \n",
    "        elif (userType.lower() == \"vegetarian\"):\n",
    "            if(item[3].lower() in [\"vegetarian\" , \"vegan\"]):\n",
    "                totalWeight = totalWeight + typeWeight\n",
    "                totalCost =  totalCost + item[4]\n",
    "                totalCalories = totalCalories + item[2]\n",
    "                counter = counter+1\n",
    "            \n",
    "                    \n",
    "        else:\n",
    "             if (item[3].lower() == \"vegan\"):\n",
    "                    totalWeight = totalWeight + typeWeight\n",
    "                    totalCost =  totalCost + item[4]\n",
    "                    totalCalories = totalCalories + item[2]\n",
    "                    counter = counter+1## عشان يتاكد ان اليوز دخل شي \n",
    "                 \n",
    "    if(counter > 0):\n",
    "        totalWeight = totalWeight/counter## عشان نعرف كم طبق جوا الميل الوحده \n",
    "    \n",
    "    if(totalCost <= userBudget):\n",
    "        totalWeight = totalWeight + budgetWeight\n",
    "\n",
    "    if(totalCalories<= userCalories):\n",
    "        totalWeight = totalWeight + calorieWeight\n",
    "\n",
    "    return totalWeight"
   ]
  },
  {
   "cell_type": "markdown",
   "metadata": {
    "id": "FqUwW2nF2ckm"
   },
   "source": [
    "# Roulette Wheel selection"
   ]
  },
  {
   "cell_type": "code",
   "execution_count": 9,
   "metadata": {
    "id": "B09SsD33-Lxm"
   },
   "outputs": [],
   "source": [
    "def roulette_wheel(fitnesses):# استقبلنا الاري الي فيها مجموع الفتنسس لاطباق اي ببلوشنز \n",
    " \n",
    "    totalFitnesses = sum(fitnesses)#خزن قيمه مجموع كل  الفتنس جوا متغير اسمه توتال فتنس عشان يخلينها ان رينج   \n",
    "    random_number = random.uniform(0,totalFitnesses)\n",
    "    p = 0.0   # partial sum\n",
    "    index = 0\n",
    "    for item in fitnesses: \n",
    "        p = p + item# خزن قيمه الفتنس جوا البي وراح يقارنها ع اساس الراندوم اذا اعلا من الراندوم نمبر راح ياخذها اذر وايز بيتركها \n",
    "        if(p >= random_number):  \n",
    "            return index# وهنا رجع الاندكس حقهاا \n",
    "        index = index +1   # وفي حال كانت اصغر راح يروح للي بعده \n",
    "        \n",
    "        #تستخدم لاختيار الأفراد من السكان لتشكيل قاعدة الجيل التالي لى \n",
    "        #تحسين الأجيال حيث نختار في كل تكرار الأفراد الذين يحتمل أن يكونوا نافعين"
   ]
  },
  {
   "cell_type": "markdown",
   "metadata": {
    "id": "om0Gv7K4hvMS"
   },
   "source": [
    "# Cross Over method"
   ]
  },
  {
   "cell_type": "code",
   "execution_count": 10,
   "metadata": {
    "id": "JiegHPTy8UwH"
   },
   "outputs": [],
   "source": [
    "def CrossOver(Parmeal1 , parmeal2 , crosspoint):\n",
    "    i = crosspoint# لانها قيمه ما بين الواحد والاربعه ع اي اساس م اعرف \n",
    "    while  (i <= 4): \n",
    "        temp = Parmeal1[i]\n",
    "        Parmeal1[i] = parmeal2[i]\n",
    "        parmeal2[i] = temp \n",
    "        i = i + 1\n",
    "        # فكل مرا راح يبدل قيمه يخزنها بالتيم  ثم يوديها للبيرنت تو تقريبا زي الشفتنق \n",
    "    return [Parmeal1 , parmeal2]\n",
    "\n",
    "#تم اختيار أكثر من والد واحد ، ويتم إنتاج أكثر من ذرية باستخدام المادة الوراثية للوالدين\n",
    "#يختار ع اساس الراندوم بوينت ويسوي سواب من النقطه"
   ]
  },
  {
   "cell_type": "markdown",
   "metadata": {},
   "source": [
    "# Mutation method"
   ]
  },
  {
   "cell_type": "code",
   "execution_count": 11,
   "metadata": {
    "id": "PFE7Sk2_jmmf"
   },
   "outputs": [],
   "source": [
    "def mutation(Parent):\n",
    "    # سويت سكيب لاندكس صفر عشان يكون من نفس الكاتقوري \n",
    "    rand_meal = random.randint(0,pop_size-1)# اختار ميل جديده ع اساس يبدل. بالاعتماد عليهاا  \n",
    "    rand_dish = random.randint(1,4)#وهنا اختار راندوم ممكن يكون طبق رئيسي  ممكن بارد ممكم حار  والخ   \n",
    "    Parent[rand_dish] = initial_population[rand_meal][rand_dish]\n",
    "    #فهنا قال يالبرينت ات الاندكس حقكم رقم كذا غير لي اياه بالقيمه الجديده الي اخترناها لك من الراندوم ميل \n",
    "   \n",
    "    return Parent\n",
    "\n",
    "#هي عملية التغيير العشوائي لأحد الجينات في الكروموسوم [1]. في حالتنا ، نقوم بتغيير طبق واحد في الوجبة بواسطة طبق عشوائي من السكان"
   ]
  },
  {
   "cell_type": "markdown",
   "metadata": {},
   "source": [
    "# Replacement method"
   ]
  },
  {
   "cell_type": "code",
   "execution_count": 12,
   "metadata": {
    "id": "vpNOB4HLYtUm"
   },
   "outputs": [],
   "source": [
    "def replacement (parent , child): \n",
    "    for item in initial_population:\n",
    "        if(item == parent):# راح يدور ع الببلويشين واكتشف انها موجوده فحذفها لي  وضف لي تشايلد \n",
    "            initial_population.remove(parent)\n",
    "            initial_population.append(child)\n",
    "            \n",
    "            #هي الخطوة الأخيرة حيث يتم استبدال \"الوالد\" القديم بـ \"الطفل\" الجديد إذا كانت لياقة الطفل أفضل من الوالد."
   ]
  },
  {
   "cell_type": "markdown",
   "metadata": {},
   "source": [
    "# Check redundent method"
   ]
  },
  {
   "cell_type": "code",
   "execution_count": 13,
   "metadata": {
    "id": "r06_hS_ctb_l"
   },
   "outputs": [],
   "source": [
    "def check_redundent(parent1, parent2): # to check if two meals are the same راح يبحث عنه وذا لقاه يطلعه ويدخل التسايلد الحديد\n",
    "    if parent1 == parent2:\n",
    "        return 1\n",
    "    else:\n",
    "        return 0\n",
    "    \n",
    "    #يقارن بين تو بيرنت اذا هم متشابهين او لا "
   ]
  },
  {
   "cell_type": "markdown",
   "metadata": {},
   "source": [
    "# Calculate fitness"
   ]
  },
  {
   "cell_type": "code",
   "execution_count": 14,
   "metadata": {},
   "outputs": [],
   "source": [
    "def calculate_fitness():\n",
    "    initial_pop_fitness = [] \n",
    "    for item in initial_population:# لكل طبق  جوا اللبوشنز \n",
    "          initial_pop_fitness.append(fitness_function(item))# احسب لي الفتنس فنكشن للطبق ثم خزنها جوا الاري \n",
    "    return initial_pop_fitness#رجعها لييي المين وتحتوي علئ الفتنس فكنشن للكل اللبلوشنز  "
   ]
  },
  {
   "cell_type": "markdown",
   "metadata": {},
   "source": [
    "# Other supporting methods"
   ]
  },
  {
   "cell_type": "code",
   "execution_count": 15,
   "metadata": {
    "id": "SL5U27Wyu2Kx"
   },
   "outputs": [],
   "source": [
    "def getSecond(elem):\n",
    "    return elem[1]\n",
    "\n",
    "def getFirst(elem):\n",
    "    return elem[0]"
   ]
  },
  {
   "cell_type": "code",
   "execution_count": 16,
   "metadata": {},
   "outputs": [],
   "source": [
    "def filtter_best_meal(meal):\n",
    "    mealList = []\n",
    "    for item in meal:\n",
    "         if(userType.lower() == \"regular\"):\n",
    "            return meal\n",
    "#هنا كل شي بيناسبه \n",
    "         elif (userType.lower() == \"vegetarian\"):\n",
    "            if(item[3].lower() in [\"vegetarian\" , \"vegan\"]):\n",
    "                mealList.append(item)\n",
    "                   #وهنا اضيف المناسب اذا كان فيجتريان جوا ماي ليست \n",
    "         else:\n",
    "            if (item[3].lower() == \"vegan\"):\n",
    "                mealList.append(item)\n",
    "                \n",
    "    return mealList\n",
    "\n",
    "# تشيل الاطباق الي م  تناسب اليوزر "
   ]
  },
  {
   "cell_type": "markdown",
   "metadata": {},
   "source": [
    "# Main code"
   ]
  },
  {
   "cell_type": "code",
   "execution_count": 18,
   "metadata": {
    "colab": {
     "base_uri": "https://localhost:8080/",
     "height": 375
    },
    "id": "cJu4RqQwkIxe",
    "outputId": "6e8d3ec0-d940-4e31-9306-5ccbb30c06bf",
    "scrolled": true
   },
   "outputs": [
    {
     "name": "stdout",
     "output_type": "stream",
     "text": [
      "     CATEGORY                             ITEM  CALORIES        TYPE  \\\n",
      "0     STARTER                   Baked eggplant     270.0       Vegan   \n",
      "1     DESSERT  Coconut and almond vanilla tart     320.0       Vegan   \n",
      "2   HOT DRINK                        Macchiato     250.0  Vegetarian   \n",
      "3  COLD DRINK                       Diet Pepsi       0.0       Vegan   \n",
      "\n",
      "   PRICE (SR)  \n",
      "0          36  \n",
      "1          45  \n",
      "2          20  \n",
      "3          10  \n",
      "-----------------------------------------------\n",
      "The fitness value of the meal:  1.0\n",
      "The meal price:  111.0 SR\n",
      "The meal calories:  840.0 Calories\n"
     ]
    },
    {
     "data": {
      "image/png": "[encoded data removed]",
      "text/plain": [
       "<Figure size 432x288 with 1 Axes>"
      ]
     },
     "metadata": {
      "needs_background": "light"
     },
     "output_type": "display_data"
    }
   ],
   "source": [
    "#GA parameters\n",
    "cross_over_rate = 0.8 #we chose the highest rate because we need to crossover most of the time to improve the generation.\n",
    "mutation_rate = 0.25 #the lowest the better since its increase the randomness\n",
    "pop_size = 150 #e chose population size as multiple of 10 with suitable difference between them.\n",
    "\n",
    "all_best_meals = [] #حقت كل الفيفورت ميلز \n",
    "\n",
    "fitness = np.array([0] * 300)\n",
    "\n",
    "################################################\n",
    "for i in range(0,19):\n",
    "################################################    \n",
    "    generation_counter=0\n",
    "    initial_population = insital_pop(pop_size) #find the initial generation \n",
    "    \n",
    "    ##راح  تحتوي علئ ليست فيها كل اللبلوشنز \n",
    "    \n",
    "    while(generation_counter < 300):   \n",
    "            \n",
    "            # Calculate the total fitness for the population \n",
    "            initial_pop_fitness = calculate_fitness() # تحتوي علئ كل الفتنس فنكشن للاطباق اي ببلوشنز \n",
    "\n",
    "\n",
    "            fitness[generation_counter] = fitness[generation_counter] + sum(initial_pop_fitness)\n",
    "            # هنا جوا اريي الفتنس راح يجمع قيم الانيشال ببلوشنز فتنس عشان الرسمه \n",
    "\n",
    "            parent1_index = roulette_wheel(initial_pop_fitness) # Find the index of the first parent to choose\n",
    "            parent1 = initial_population[parent1_index] # Retrieve the parent\n",
    "\n",
    "\n",
    "            parent2_index = roulette_wheel(initial_pop_fitness) # Find the index of the second parent to choose\n",
    "            parent2 = initial_population[parent2_index] # Retrieve the parent\n",
    "\n",
    "\n",
    "            while(check_redundent(parent1.copy() , parent2.copy()) == 1):# عشان يتاكد ان مو كل الطبقين زي بعض \n",
    "                parent2_index = roulette_wheel(initial_pop_fitness)# في حال تشابهوا راح يرجع يختار  قيمه جديده للطبق \n",
    "                parent2 = initial_population[parent2_index]\n",
    "\n",
    "            flag = False\n",
    "\n",
    "            cross_point = random.uniform(0,1) #[0,1]هو قيمه راندوم بتوين الزيرو والون \n",
    "\n",
    "            if(cross_point <= cross_over_rate): \n",
    "                ################################################################################################\n",
    "                offspring = CrossOver(parent1.copy(), parent2.copy(), random.randint(1,4)) # [1,4]\n",
    "                ################################################################################################\n",
    "                flag = True# بمعنئ ان سوا كروس اوفرر وخلصص \n",
    "\n",
    "\n",
    "            mutation_number = random.uniform(0,1) \n",
    "            if(mutation_number <= mutation_rate and flag == True):# اذا سوا كروس اوفر\n",
    "                offspring1 = mutation(offspring[0].copy())# تسوي ميوتيشن للاوف سبرنق \n",
    "                offspring2 = mutation(offspring[1].copy())\n",
    "                offspring = [offspring1, offspring2]\n",
    "                flag = True\n",
    "\n",
    "\n",
    "            if(mutation_number <= mutation_rate and flag == False): # اذا م سوا كروس اوفرر \n",
    "                offspring1 = mutation(parent1.copy())# تسوي ميوتيشن للبيرنت بس مو الاوفسبرينق \n",
    "                offspring2 = mutation(parent2.copy())#\n",
    "                offspring = [offspring1, offspring2]\n",
    "                flag = True\n",
    "\n",
    "\n",
    "\n",
    "            if(flag ==True):\n",
    "                meal_fitness = []\n",
    "                meal_fitness.append([offspring[0] , fitness_function(offspring[0])])\n",
    "                meal_fitness.append([offspring[1] , fitness_function(offspring[1])])\n",
    "                meal_fitness.append([parent1 , initial_pop_fitness[parent1_index]])\n",
    "                meal_fitness.append([parent2 , initial_pop_fitness[parent2_index]])\n",
    "                meal_fitness.sort(key=getSecond) #sort according to the fitness (ascending)\n",
    "                best1 = meal_fitness[3]\n",
    "                best2 = meal_fitness[2]\n",
    "                replacement(parent1 , best1[0])\n",
    "                replacement(parent2 , best2[0])\n",
    "\n",
    "\n",
    "            generation_counter = generation_counter + 1\n",
    "\n",
    "        \n",
    "    initial_pop_fitness = calculate_fitness() \n",
    "\n",
    "    Meals = []#   ففيها افضل رن من العشرين رن للفه الوحد \n",
    "    #تحتوي ع افضل انفجوالز من كل رن من العشرين\n",
    "    #هو بيسوي عشرين لفه للرن الواحد ف يبدا في اول لفه يشوف وش. احسن وحده فيهم ويخزنها ثم يروح للفه الثاني ويخزن افضل وحده \n",
    "    for i in range(len(initial_population)-1):\n",
    "        Meals.append([initial_pop_fitness[i] , initial_population[i]]) #خزن فيها الببلوشنز + الفتنس لها سوا \n",
    "\n",
    "    #sort   \n",
    "    Meals.sort(key=getFirst)\n",
    "\n",
    "    best_Meal = Meals[len(Meals)-1][1] #لان البيست ميلل اخذها من الميلز وراح لاخر اندكس عشان يحصل اخر وحده \n",
    "    best_Meal_fit = Meals[len(Meals)-1][0]\n",
    "    \n",
    "    all_best_meals.append([best_Meal_fit, best_Meal]) # اخذ اخر رن من العشرين الي خزناها بالميلز واخر واحد افضل  بيكون لان محسن كثيرر  \n",
    "\n",
    "all_best_meals.sort(key=getFirst)\n",
    "best_Meal = all_best_meals[len(all_best_meals)-1][1] # هذي السورت تاخذ احسن رن من ٣٠٠ الي سواها قبل \n",
    "best_Meal_fit = all_best_meals[len(all_best_meals)-1][0]\n",
    "\n",
    "best_Meal = filtter_best_meal(best_Meal) \n",
    "\n",
    "bestMealCalorie = 0.0\n",
    "bestMealPrice = 0.0\n",
    "\n",
    "for item in best_Meal:\n",
    "    bestMealCalorie = bestMealCalorie + item[2]\n",
    "    bestMealPrice = bestMealPrice + item[4]\n",
    "\n",
    "\n",
    "the_resulted_meal = pd.DataFrame(best_Meal, columns = [\"CATEGORY\", \"ITEM\", \"CALORIES\" , \"TYPE\", \"PRICE (SR)\" ])\n",
    "print(the_resulted_meal)\n",
    "print(\"-----------------------------------------------\")\n",
    "print(\"The fitness value of the meal: \", best_Meal_fit)\n",
    "print(\"The meal price: \", bestMealPrice , \"SR\")\n",
    "print(\"The meal calories: \", bestMealCalorie, \"Calories\")  \n",
    "\n",
    "\n",
    "x_axis= range(0, 300)\n",
    "y_axis = [] \n",
    "for item in fitness:\n",
    "    y_axis.append(item/20)\n",
    "\n",
    "plt.figure()\n",
    "plt.title(\"GA Performance\")\n",
    "plt.xlabel('Generation Number')\n",
    "plt.ylabel('Average Fitness') \n",
    "plt.plot(x_axis,y_axis)\n",
    "\n",
    "plt.show()"
   ]
  },
  {
   "cell_type": "code",
   "execution_count": null,
   "metadata": {},
   "outputs": [],
   "source": []
  }
 ],
 "metadata": {
  "colab": {
   "collapsed_sections": [],
   "name": "AIProject (1).ipynb",
   "provenance": []
  },
  "kernelspec": {
   "display_name": "Python 3",
   "language": "python",
   "name": "python3"
  },
  "language_info": {
   "codemirror_mode": {
    "name": "ipython",
    "version": 3
   },
   "file_extension": ".py",
   "mimetype": "text/x-python",
   "name": "python",
   "nbconvert_exporter": "python",
   "pygments_lexer": "ipython3",
   "version": "3.7.4"
  }
 },
 "nbformat": 4,
 "nbformat_minor": 1
}
